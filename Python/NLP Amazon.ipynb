{
 "cells": [
  {
   "cell_type": "code",
   "execution_count": 1,
   "id": "dangerous-migration",
   "metadata": {},
   "outputs": [],
   "source": [
    "import pandas as pd\n",
    "import numpy as np\n",
    "import seaborn as sns\n",
    "import matplotlib.pyplot as plt\n",
    "import os"
   ]
  },
  {
   "cell_type": "code",
   "execution_count": null,
   "id": "antique-trader",
   "metadata": {},
   "outputs": [],
   "source": [
    "os.listdir()"
   ]
  },
  {
   "cell_type": "code",
   "execution_count": 2,
   "id": "super-physics",
   "metadata": {},
   "outputs": [],
   "source": [
    "review_df = pd.read_csv('amazon_alexa.tsv', sep = '\\t')"
   ]
  },
  {
   "cell_type": "code",
   "execution_count": null,
   "id": "chicken-watts",
   "metadata": {},
   "outputs": [],
   "source": [
    "review_df.head()"
   ]
  },
  {
   "cell_type": "code",
   "execution_count": null,
   "id": "comprehensive-opinion",
   "metadata": {},
   "outputs": [],
   "source": [
    "review_df.info()"
   ]
  },
  {
   "cell_type": "code",
   "execution_count": null,
   "id": "measured-serbia",
   "metadata": {},
   "outputs": [],
   "source": [
    "# Vemos que la mayría de las personas pone una puntuación muy alta al producto\n",
    "\n",
    "review_df.describe()"
   ]
  },
  {
   "cell_type": "markdown",
   "id": "latter-nevada",
   "metadata": {},
   "source": [
    "## Análisis exploratorio"
   ]
  },
  {
   "cell_type": "code",
   "execution_count": null,
   "id": "wound-parker",
   "metadata": {},
   "outputs": [],
   "source": [
    "# Con un mapa de calor vemos si hay reviews nulas\n",
    "\n",
    "sns.heatmap(review_df.isnull(), yticklabels=False, cmap = 'Blues')\n",
    "\n",
    "# Vemos que no hay ningún valor nulo"
   ]
  },
  {
   "cell_type": "code",
   "execution_count": null,
   "id": "peaceful-composite",
   "metadata": {},
   "outputs": [],
   "source": [
    "review_df.hist(bins = 30)\n",
    "plt.show()\n",
    "\n",
    "# Aquí ya vemos que tenemos un dataset bastante desbalanceado"
   ]
  },
  {
   "cell_type": "code",
   "execution_count": null,
   "id": "capable-gentleman",
   "metadata": {},
   "outputs": [],
   "source": [
    "review_df.columns"
   ]
  },
  {
   "cell_type": "code",
   "execution_count": 3,
   "id": "chronic-fabric",
   "metadata": {},
   "outputs": [
    {
     "data": {
      "text/html": [
       "<div>\n",
       "<style scoped>\n",
       "    .dataframe tbody tr th:only-of-type {\n",
       "        vertical-align: middle;\n",
       "    }\n",
       "\n",
       "    .dataframe tbody tr th {\n",
       "        vertical-align: top;\n",
       "    }\n",
       "\n",
       "    .dataframe thead th {\n",
       "        text-align: right;\n",
       "    }\n",
       "</style>\n",
       "<table border=\"1\" class=\"dataframe\">\n",
       "  <thead>\n",
       "    <tr style=\"text-align: right;\">\n",
       "      <th></th>\n",
       "      <th>rating</th>\n",
       "      <th>date</th>\n",
       "      <th>variation</th>\n",
       "      <th>verified_reviews</th>\n",
       "      <th>feedback</th>\n",
       "      <th>longitud</th>\n",
       "    </tr>\n",
       "  </thead>\n",
       "  <tbody>\n",
       "    <tr>\n",
       "      <th>0</th>\n",
       "      <td>5</td>\n",
       "      <td>31-Jul-18</td>\n",
       "      <td>Charcoal Fabric</td>\n",
       "      <td>Love my Echo!</td>\n",
       "      <td>1</td>\n",
       "      <td>13</td>\n",
       "    </tr>\n",
       "    <tr>\n",
       "      <th>1</th>\n",
       "      <td>5</td>\n",
       "      <td>31-Jul-18</td>\n",
       "      <td>Charcoal Fabric</td>\n",
       "      <td>Loved it!</td>\n",
       "      <td>1</td>\n",
       "      <td>9</td>\n",
       "    </tr>\n",
       "    <tr>\n",
       "      <th>2</th>\n",
       "      <td>4</td>\n",
       "      <td>31-Jul-18</td>\n",
       "      <td>Walnut Finish</td>\n",
       "      <td>Sometimes while playing a game, you can answer...</td>\n",
       "      <td>1</td>\n",
       "      <td>195</td>\n",
       "    </tr>\n",
       "    <tr>\n",
       "      <th>3</th>\n",
       "      <td>5</td>\n",
       "      <td>31-Jul-18</td>\n",
       "      <td>Charcoal Fabric</td>\n",
       "      <td>I have had a lot of fun with this thing. My 4 ...</td>\n",
       "      <td>1</td>\n",
       "      <td>172</td>\n",
       "    </tr>\n",
       "    <tr>\n",
       "      <th>4</th>\n",
       "      <td>5</td>\n",
       "      <td>31-Jul-18</td>\n",
       "      <td>Charcoal Fabric</td>\n",
       "      <td>Music</td>\n",
       "      <td>1</td>\n",
       "      <td>5</td>\n",
       "    </tr>\n",
       "  </tbody>\n",
       "</table>\n",
       "</div>"
      ],
      "text/plain": [
       "   rating       date         variation  \\\n",
       "0       5  31-Jul-18  Charcoal Fabric    \n",
       "1       5  31-Jul-18  Charcoal Fabric    \n",
       "2       4  31-Jul-18    Walnut Finish    \n",
       "3       5  31-Jul-18  Charcoal Fabric    \n",
       "4       5  31-Jul-18  Charcoal Fabric    \n",
       "\n",
       "                                    verified_reviews  feedback  longitud  \n",
       "0                                      Love my Echo!         1        13  \n",
       "1                                          Loved it!         1         9  \n",
       "2  Sometimes while playing a game, you can answer...         1       195  \n",
       "3  I have had a lot of fun with this thing. My 4 ...         1       172  \n",
       "4                                              Music         1         5  "
      ]
     },
     "execution_count": 3,
     "metadata": {},
     "output_type": "execute_result"
    }
   ],
   "source": [
    "# Ahora crearé una nueva columna en el data set con el número de letras que tiene cada review\n",
    "\n",
    "review_df['longitud'] = review_df.loc[:,'verified_reviews'].apply(len)\n",
    "review_df.head()"
   ]
  },
  {
   "cell_type": "code",
   "execution_count": null,
   "id": "pharmaceutical-graduation",
   "metadata": {},
   "outputs": [],
   "source": [
    "''''Cuando se estudia con variables que han escrito humanos, la distribución suele ser una long tail. Con este gráfico\n",
    "lo corroboramos''''\n",
    "\n",
    "plt.hist(review_df.loc[:,'longitud'], bins = 30)\n",
    "plt.show()"
   ]
  },
  {
   "cell_type": "code",
   "execution_count": null,
   "id": "comparable-comparison",
   "metadata": {},
   "outputs": [],
   "source": [
    "review_df.loc[:,'longitud'].describe()"
   ]
  },
  {
   "cell_type": "code",
   "execution_count": null,
   "id": "mysterious-bargain",
   "metadata": {},
   "outputs": [],
   "source": [
    "# Comentario más corto\n",
    "\n",
    "review_df.loc[review_df['longitud']==1,'verified_reviews'].iloc[0]"
   ]
  },
  {
   "cell_type": "code",
   "execution_count": null,
   "id": "selected-hopkins",
   "metadata": {},
   "outputs": [],
   "source": [
    "# Comentario más largo\n",
    "\n",
    "review_df.loc[review_df['longitud']==2851,'verified_reviews'].iloc[0]"
   ]
  },
  {
   "cell_type": "code",
   "execution_count": null,
   "id": "intellectual-modeling",
   "metadata": {},
   "outputs": [],
   "source": [
    "# Comentarios con longitud de la media\n",
    "\n",
    "review_df.loc[review_df['longitud']==132,:]"
   ]
  },
  {
   "cell_type": "code",
   "execution_count": 4,
   "id": "abandoned-silence",
   "metadata": {},
   "outputs": [],
   "source": [
    "# Separo el data set en postivos y negativos con la ayuda de la columna feedback\n",
    "\n",
    "positivo = review_df.loc[review_df['feedback'] == 1,:]\n",
    "negativo = review_df.loc[review_df['feedback'] == 0,:]"
   ]
  },
  {
   "cell_type": "code",
   "execution_count": null,
   "id": "neither-wealth",
   "metadata": {},
   "outputs": [],
   "source": [
    "# Esto es un ejemplo del problema desbalanceado que tenemos\n",
    "\n",
    "sns.countplot(data = review_df,\n",
    "             x = 'feedback')\n",
    "plt.show()"
   ]
  },
  {
   "cell_type": "code",
   "execution_count": null,
   "id": "binary-stanley",
   "metadata": {},
   "outputs": [],
   "source": [
    "sns.countplot(data = review_df,\n",
    "             x = 'rating')"
   ]
  },
  {
   "cell_type": "code",
   "execution_count": null,
   "id": "configured-arizona",
   "metadata": {},
   "outputs": [],
   "source": [
    "# Aquí vemos si depende del diseño del aparato cambia la puntuación de los usuarios\n",
    "\n",
    "plt.figure(figsize=(30,10))\n",
    "sns.barplot(x = 'variation',\n",
    "           y = 'rating',\n",
    "           data = review_df)\n",
    "\n",
    "plt.show()"
   ]
  },
  {
   "cell_type": "code",
   "execution_count": 5,
   "id": "considerable-boards",
   "metadata": {},
   "outputs": [],
   "source": [
    "# Junto todas las reviews en una lista\n",
    "\n",
    "frases = review_df.loc[:,'verified_reviews'].tolist()"
   ]
  },
  {
   "cell_type": "code",
   "execution_count": 6,
   "id": "christian-playing",
   "metadata": {},
   "outputs": [],
   "source": [
    "# Ahora junto todo en una frase gigante\n",
    "\n",
    "una_frase = ' '.join(frases)"
   ]
  },
  {
   "cell_type": "markdown",
   "id": "sophisticated-gather",
   "metadata": {},
   "source": [
    "### Nube de palabras"
   ]
  },
  {
   "cell_type": "code",
   "execution_count": 5,
   "id": "dirty-faculty",
   "metadata": {},
   "outputs": [],
   "source": [
    "from wordcloud import WordCloud"
   ]
  },
  {
   "cell_type": "code",
   "execution_count": null,
   "id": "thousand-flush",
   "metadata": {},
   "outputs": [],
   "source": [
    "''' Esta es una gráfica que nos acerca a lo que nuestros clientes están diciendo, apareciendo en un tamaño\n",
    "mayor aquellas palabras que se usan con más frecuencia. Vemos que las palabras que aparecen tienen connotaciones\n",
    "positivas'''\n",
    "\n",
    "plt.figure(figsize = (20,20))\n",
    "\n",
    "plt.imshow(WordCloud().generate(una_frase))"
   ]
  },
  {
   "cell_type": "code",
   "execution_count": null,
   "id": "useful-virgin",
   "metadata": {},
   "outputs": [],
   "source": []
  },
  {
   "cell_type": "code",
   "execution_count": 6,
   "id": "alternative-ocean",
   "metadata": {},
   "outputs": [],
   "source": [
    "# Esta es una nube de palabras con el dataframe con los comentarios negativos\n",
    "\n",
    "frase_neg = negativo.loc[:,'verified_reviews'].tolist()\n",
    "una_frase_neg = ' '.join(frase_neg)"
   ]
  },
  {
   "cell_type": "code",
   "execution_count": null,
   "id": "active-arrangement",
   "metadata": {},
   "outputs": [],
   "source": [
    "plt.figure(figsize = (15,15))\n",
    "\n",
    "plt.imshow(WordCloud().generate(una_frase_neg))\n",
    "plt.show()"
   ]
  },
  {
   "cell_type": "markdown",
   "id": "smoking-harvey",
   "metadata": {},
   "source": [
    "# Limpieza del texto"
   ]
  },
  {
   "cell_type": "code",
   "execution_count": 5,
   "id": "vocational-music",
   "metadata": {},
   "outputs": [],
   "source": [
    "# Me voy a quedar con las columnas que me van a servir para mi modelo\n",
    "\n",
    "df = review_df.drop(['date', 'rating', 'longitud'], axis = 1)"
   ]
  },
  {
   "cell_type": "code",
   "execution_count": 6,
   "id": "appropriate-texture",
   "metadata": {},
   "outputs": [],
   "source": [
    "# Hago dummi la variable que indica el tipo de aparato.\n",
    "# drop_first = true quita una de las columnas de dumies para evitar la colinealidad\n",
    "\n",
    "dumies = pd.get_dummies(df.loc[:,'variation'], drop_first=True)"
   ]
  },
  {
   "cell_type": "code",
   "execution_count": 7,
   "id": "charitable-practitioner",
   "metadata": {},
   "outputs": [],
   "source": [
    "# concateno los 2 dataframe\n",
    "\n",
    "df.drop('variation', axis = 1, inplace = True)\n",
    "\n",
    "df = pd.concat([df, dumies], axis = 1)"
   ]
  },
  {
   "cell_type": "markdown",
   "id": "sustained-configuration",
   "metadata": {},
   "source": [
    "# Eliminar los signos de puntuación"
   ]
  },
  {
   "cell_type": "code",
   "execution_count": 8,
   "id": "processed-accessory",
   "metadata": {},
   "outputs": [],
   "source": [
    "import string\n",
    "import nltk\n",
    "from nltk.corpus import stopwords"
   ]
  },
  {
   "cell_type": "code",
   "execution_count": 9,
   "id": "honey-livestock",
   "metadata": {},
   "outputs": [
    {
     "name": "stderr",
     "output_type": "stream",
     "text": [
      "[nltk_data] Downloading package stopwords to /home/nestor/nltk_data...\n",
      "[nltk_data]   Package stopwords is already up-to-date!\n"
     ]
    },
    {
     "data": {
      "text/plain": [
       "True"
      ]
     },
     "execution_count": 9,
     "metadata": {},
     "output_type": "execute_result"
    }
   ],
   "source": [
    "nltk.download('stopwords')"
   ]
  },
  {
   "cell_type": "code",
   "execution_count": 25,
   "id": "eligible-priest",
   "metadata": {},
   "outputs": [
    {
     "data": {
      "text/plain": [
       "['i',\n",
       " 'me',\n",
       " 'my',\n",
       " 'myself',\n",
       " 'we',\n",
       " 'our',\n",
       " 'ours',\n",
       " 'ourselves',\n",
       " 'you',\n",
       " \"you're\",\n",
       " \"you've\",\n",
       " \"you'll\",\n",
       " \"you'd\",\n",
       " 'your',\n",
       " 'yours',\n",
       " 'yourself',\n",
       " 'yourselves',\n",
       " 'he',\n",
       " 'him',\n",
       " 'his',\n",
       " 'himself',\n",
       " 'she',\n",
       " \"she's\",\n",
       " 'her',\n",
       " 'hers',\n",
       " 'herself',\n",
       " 'it',\n",
       " \"it's\",\n",
       " 'its',\n",
       " 'itself',\n",
       " 'they',\n",
       " 'them',\n",
       " 'their',\n",
       " 'theirs',\n",
       " 'themselves',\n",
       " 'what',\n",
       " 'which',\n",
       " 'who',\n",
       " 'whom',\n",
       " 'this',\n",
       " 'that',\n",
       " \"that'll\",\n",
       " 'these',\n",
       " 'those',\n",
       " 'am',\n",
       " 'is',\n",
       " 'are',\n",
       " 'was',\n",
       " 'were',\n",
       " 'be',\n",
       " 'been',\n",
       " 'being',\n",
       " 'have',\n",
       " 'has',\n",
       " 'had',\n",
       " 'having',\n",
       " 'do',\n",
       " 'does',\n",
       " 'did',\n",
       " 'doing',\n",
       " 'a',\n",
       " 'an',\n",
       " 'the',\n",
       " 'and',\n",
       " 'but',\n",
       " 'if',\n",
       " 'or',\n",
       " 'because',\n",
       " 'as',\n",
       " 'until',\n",
       " 'while',\n",
       " 'of',\n",
       " 'at',\n",
       " 'by',\n",
       " 'for',\n",
       " 'with',\n",
       " 'about',\n",
       " 'against',\n",
       " 'between',\n",
       " 'into',\n",
       " 'through',\n",
       " 'during',\n",
       " 'before',\n",
       " 'after',\n",
       " 'above',\n",
       " 'below',\n",
       " 'to',\n",
       " 'from',\n",
       " 'up',\n",
       " 'down',\n",
       " 'in',\n",
       " 'out',\n",
       " 'on',\n",
       " 'off',\n",
       " 'over',\n",
       " 'under',\n",
       " 'again',\n",
       " 'further',\n",
       " 'then',\n",
       " 'once',\n",
       " 'here',\n",
       " 'there',\n",
       " 'when',\n",
       " 'where',\n",
       " 'why',\n",
       " 'how',\n",
       " 'all',\n",
       " 'any',\n",
       " 'both',\n",
       " 'each',\n",
       " 'few',\n",
       " 'more',\n",
       " 'most',\n",
       " 'other',\n",
       " 'some',\n",
       " 'such',\n",
       " 'no',\n",
       " 'nor',\n",
       " 'not',\n",
       " 'only',\n",
       " 'own',\n",
       " 'same',\n",
       " 'so',\n",
       " 'than',\n",
       " 'too',\n",
       " 'very',\n",
       " 's',\n",
       " 't',\n",
       " 'can',\n",
       " 'will',\n",
       " 'just',\n",
       " 'don',\n",
       " \"don't\",\n",
       " 'should',\n",
       " \"should've\",\n",
       " 'now',\n",
       " 'd',\n",
       " 'll',\n",
       " 'm',\n",
       " 'o',\n",
       " 're',\n",
       " 've',\n",
       " 'y',\n",
       " 'ain',\n",
       " 'aren',\n",
       " \"aren't\",\n",
       " 'couldn',\n",
       " \"couldn't\",\n",
       " 'didn',\n",
       " \"didn't\",\n",
       " 'doesn',\n",
       " \"doesn't\",\n",
       " 'hadn',\n",
       " \"hadn't\",\n",
       " 'hasn',\n",
       " \"hasn't\",\n",
       " 'haven',\n",
       " \"haven't\",\n",
       " 'isn',\n",
       " \"isn't\",\n",
       " 'ma',\n",
       " 'mightn',\n",
       " \"mightn't\",\n",
       " 'mustn',\n",
       " \"mustn't\",\n",
       " 'needn',\n",
       " \"needn't\",\n",
       " 'shan',\n",
       " \"shan't\",\n",
       " 'shouldn',\n",
       " \"shouldn't\",\n",
       " 'wasn',\n",
       " \"wasn't\",\n",
       " 'weren',\n",
       " \"weren't\",\n",
       " 'won',\n",
       " \"won't\",\n",
       " 'wouldn',\n",
       " \"wouldn't\"]"
      ]
     },
     "execution_count": 25,
     "metadata": {},
     "output_type": "execute_result"
    }
   ],
   "source": [
    "stopwords.words('english')"
   ]
  },
  {
   "cell_type": "code",
   "execution_count": 12,
   "id": "periodic-championship",
   "metadata": {},
   "outputs": [
    {
     "data": {
      "text/plain": [
       "'!\"#$%&\\'()*+,-./:;<=>?@[\\\\]^_`{|}~'"
      ]
     },
     "execution_count": 12,
     "metadata": {},
     "output_type": "execute_result"
    }
   ],
   "source": [
    "string.punctuation"
   ]
  },
  {
   "cell_type": "code",
   "execution_count": 10,
   "id": "absent-reception",
   "metadata": {},
   "outputs": [],
   "source": [
    "def limpiar_frase(frase):\n",
    "    \n",
    "    limpiar_puntuacion = [i for i in frase if i not in string.punctuation]\n",
    "    limpiar_puntuacion = ''.join(limpiar_puntuacion)\n",
    "    frase_limpia = [i for i in limpiar_puntuacion.split() if i.lower() not in stopwords.words('english')]\n",
    "    \n",
    "    return frase_limpia"
   ]
  },
  {
   "cell_type": "code",
   "execution_count": 29,
   "id": "allied-gauge",
   "metadata": {},
   "outputs": [],
   "source": [
    "# Con este ejemplo veo que la función está bien\n",
    "frase = 'Here is a minichallenge, that will teach you how to remove stopwords an punctuation?!!!'\n",
    "limpiar_frase(frase)"
   ]
  },
  {
   "cell_type": "code",
   "execution_count": 11,
   "id": "changing-mistake",
   "metadata": {},
   "outputs": [],
   "source": [
    "# En df_clean ya tengo las valoraciones limpias, sin signos ni stopwords\n",
    "\n",
    "df_clean = df.loc[:,'verified_reviews'].apply(limpiar_frase)"
   ]
  },
  {
   "cell_type": "code",
   "execution_count": null,
   "id": "committed-browse",
   "metadata": {},
   "outputs": [],
   "source": []
  },
  {
   "cell_type": "markdown",
   "id": "junior-raleigh",
   "metadata": {},
   "source": [
    "# Tokenizar"
   ]
  },
  {
   "cell_type": "code",
   "execution_count": 12,
   "id": "republican-reset",
   "metadata": {},
   "outputs": [],
   "source": [
    "from sklearn.feature_extraction.text import CountVectorizer"
   ]
  },
  {
   "cell_type": "code",
   "execution_count": 13,
   "id": "iraqi-handbook",
   "metadata": {},
   "outputs": [],
   "source": [
    "# El parámetro analyzer del CountVectorizer me permite llamar a la función y evitarme el paso anterior.\n",
    "\n",
    "vectorizar = CountVectorizer(analyzer=limpiar_frase)\n",
    "df_tokenizado = vectorizar.fit_transform(df.loc[:,'verified_reviews'])"
   ]
  },
  {
   "cell_type": "code",
   "execution_count": 14,
   "id": "failing-directory",
   "metadata": {},
   "outputs": [
    {
     "data": {
      "text/plain": [
       "array([[0, 0, 0, ..., 0, 0, 0],\n",
       "       [0, 0, 0, ..., 0, 0, 0],\n",
       "       [0, 0, 0, ..., 0, 0, 0],\n",
       "       ...,\n",
       "       [0, 0, 0, ..., 0, 0, 0],\n",
       "       [0, 0, 0, ..., 0, 0, 0],\n",
       "       [0, 0, 0, ..., 0, 0, 0]])"
      ]
     },
     "execution_count": 14,
     "metadata": {},
     "output_type": "execute_result"
    }
   ],
   "source": [
    "# Array de los tokens\n",
    "\n",
    "df_tokenizado.toarray()"
   ]
  },
  {
   "cell_type": "code",
   "execution_count": 14,
   "id": "promising-complex",
   "metadata": {},
   "outputs": [
    {
     "data": {
      "text/plain": [
       "(3150, 5211)"
      ]
     },
     "execution_count": 14,
     "metadata": {},
     "output_type": "execute_result"
    }
   ],
   "source": [
    "df_tokenizado.shape"
   ]
  },
  {
   "cell_type": "code",
   "execution_count": 15,
   "id": "sophisticated-chorus",
   "metadata": {},
   "outputs": [],
   "source": [
    "# Añado este array al dataframe\n",
    "\n",
    "df.drop(['verified_reviews'], axis = 1, inplace = True)\n",
    "reviews = pd.DataFrame(df_tokenizado.toarray())\n",
    "df = pd.concat([df, reviews], axis = 1)"
   ]
  },
  {
   "cell_type": "code",
   "execution_count": 16,
   "id": "fifty-wheel",
   "metadata": {},
   "outputs": [
    {
     "data": {
      "text/html": [
       "<div>\n",
       "<style scoped>\n",
       "    .dataframe tbody tr th:only-of-type {\n",
       "        vertical-align: middle;\n",
       "    }\n",
       "\n",
       "    .dataframe tbody tr th {\n",
       "        vertical-align: top;\n",
       "    }\n",
       "\n",
       "    .dataframe thead th {\n",
       "        text-align: right;\n",
       "    }\n",
       "</style>\n",
       "<table border=\"1\" class=\"dataframe\">\n",
       "  <thead>\n",
       "    <tr style=\"text-align: right;\">\n",
       "      <th></th>\n",
       "      <th>feedback</th>\n",
       "      <th>Black  Dot</th>\n",
       "      <th>Black  Plus</th>\n",
       "      <th>Black  Show</th>\n",
       "      <th>Black  Spot</th>\n",
       "      <th>Charcoal Fabric</th>\n",
       "      <th>Configuration: Fire TV Stick</th>\n",
       "      <th>Heather Gray Fabric</th>\n",
       "      <th>Oak Finish</th>\n",
       "      <th>Sandstone Fabric</th>\n",
       "      <th>...</th>\n",
       "      <th>5201</th>\n",
       "      <th>5202</th>\n",
       "      <th>5203</th>\n",
       "      <th>5204</th>\n",
       "      <th>5205</th>\n",
       "      <th>5206</th>\n",
       "      <th>5207</th>\n",
       "      <th>5208</th>\n",
       "      <th>5209</th>\n",
       "      <th>5210</th>\n",
       "    </tr>\n",
       "  </thead>\n",
       "  <tbody>\n",
       "    <tr>\n",
       "      <th>0</th>\n",
       "      <td>1</td>\n",
       "      <td>0</td>\n",
       "      <td>0</td>\n",
       "      <td>0</td>\n",
       "      <td>0</td>\n",
       "      <td>1</td>\n",
       "      <td>0</td>\n",
       "      <td>0</td>\n",
       "      <td>0</td>\n",
       "      <td>0</td>\n",
       "      <td>...</td>\n",
       "      <td>0</td>\n",
       "      <td>0</td>\n",
       "      <td>0</td>\n",
       "      <td>0</td>\n",
       "      <td>0</td>\n",
       "      <td>0</td>\n",
       "      <td>0</td>\n",
       "      <td>0</td>\n",
       "      <td>0</td>\n",
       "      <td>0</td>\n",
       "    </tr>\n",
       "    <tr>\n",
       "      <th>1</th>\n",
       "      <td>1</td>\n",
       "      <td>0</td>\n",
       "      <td>0</td>\n",
       "      <td>0</td>\n",
       "      <td>0</td>\n",
       "      <td>1</td>\n",
       "      <td>0</td>\n",
       "      <td>0</td>\n",
       "      <td>0</td>\n",
       "      <td>0</td>\n",
       "      <td>...</td>\n",
       "      <td>0</td>\n",
       "      <td>0</td>\n",
       "      <td>0</td>\n",
       "      <td>0</td>\n",
       "      <td>0</td>\n",
       "      <td>0</td>\n",
       "      <td>0</td>\n",
       "      <td>0</td>\n",
       "      <td>0</td>\n",
       "      <td>0</td>\n",
       "    </tr>\n",
       "    <tr>\n",
       "      <th>2</th>\n",
       "      <td>1</td>\n",
       "      <td>0</td>\n",
       "      <td>0</td>\n",
       "      <td>0</td>\n",
       "      <td>0</td>\n",
       "      <td>0</td>\n",
       "      <td>0</td>\n",
       "      <td>0</td>\n",
       "      <td>0</td>\n",
       "      <td>0</td>\n",
       "      <td>...</td>\n",
       "      <td>0</td>\n",
       "      <td>0</td>\n",
       "      <td>0</td>\n",
       "      <td>0</td>\n",
       "      <td>0</td>\n",
       "      <td>0</td>\n",
       "      <td>0</td>\n",
       "      <td>0</td>\n",
       "      <td>0</td>\n",
       "      <td>0</td>\n",
       "    </tr>\n",
       "    <tr>\n",
       "      <th>3</th>\n",
       "      <td>1</td>\n",
       "      <td>0</td>\n",
       "      <td>0</td>\n",
       "      <td>0</td>\n",
       "      <td>0</td>\n",
       "      <td>1</td>\n",
       "      <td>0</td>\n",
       "      <td>0</td>\n",
       "      <td>0</td>\n",
       "      <td>0</td>\n",
       "      <td>...</td>\n",
       "      <td>0</td>\n",
       "      <td>0</td>\n",
       "      <td>0</td>\n",
       "      <td>0</td>\n",
       "      <td>0</td>\n",
       "      <td>0</td>\n",
       "      <td>0</td>\n",
       "      <td>0</td>\n",
       "      <td>0</td>\n",
       "      <td>0</td>\n",
       "    </tr>\n",
       "    <tr>\n",
       "      <th>4</th>\n",
       "      <td>1</td>\n",
       "      <td>0</td>\n",
       "      <td>0</td>\n",
       "      <td>0</td>\n",
       "      <td>0</td>\n",
       "      <td>1</td>\n",
       "      <td>0</td>\n",
       "      <td>0</td>\n",
       "      <td>0</td>\n",
       "      <td>0</td>\n",
       "      <td>...</td>\n",
       "      <td>0</td>\n",
       "      <td>0</td>\n",
       "      <td>0</td>\n",
       "      <td>0</td>\n",
       "      <td>0</td>\n",
       "      <td>0</td>\n",
       "      <td>0</td>\n",
       "      <td>0</td>\n",
       "      <td>0</td>\n",
       "      <td>0</td>\n",
       "    </tr>\n",
       "  </tbody>\n",
       "</table>\n",
       "<p>5 rows × 5227 columns</p>\n",
       "</div>"
      ],
      "text/plain": [
       "   feedback  Black  Dot  Black  Plus  Black  Show  Black  Spot  \\\n",
       "0         1           0            0            0            0   \n",
       "1         1           0            0            0            0   \n",
       "2         1           0            0            0            0   \n",
       "3         1           0            0            0            0   \n",
       "4         1           0            0            0            0   \n",
       "\n",
       "   Charcoal Fabric   Configuration: Fire TV Stick  Heather Gray Fabric   \\\n",
       "0                 1                             0                     0   \n",
       "1                 1                             0                     0   \n",
       "2                 0                             0                     0   \n",
       "3                 1                             0                     0   \n",
       "4                 1                             0                     0   \n",
       "\n",
       "   Oak Finish   Sandstone Fabric   ...  5201  5202  5203  5204  5205  5206  \\\n",
       "0            0                  0  ...     0     0     0     0     0     0   \n",
       "1            0                  0  ...     0     0     0     0     0     0   \n",
       "2            0                  0  ...     0     0     0     0     0     0   \n",
       "3            0                  0  ...     0     0     0     0     0     0   \n",
       "4            0                  0  ...     0     0     0     0     0     0   \n",
       "\n",
       "   5207  5208  5209  5210  \n",
       "0     0     0     0     0  \n",
       "1     0     0     0     0  \n",
       "2     0     0     0     0  \n",
       "3     0     0     0     0  \n",
       "4     0     0     0     0  \n",
       "\n",
       "[5 rows x 5227 columns]"
      ]
     },
     "execution_count": 16,
     "metadata": {},
     "output_type": "execute_result"
    }
   ],
   "source": [
    "df.head()"
   ]
  },
  {
   "cell_type": "code",
   "execution_count": 17,
   "id": "abandoned-compact",
   "metadata": {},
   "outputs": [],
   "source": [
    "# Separo mis variables independientes con mi variable a predecir(y)\n",
    "\n",
    "x = df.drop(['feedback'], axis = 1)\n",
    "y = df.loc[:,'feedback']"
   ]
  },
  {
   "cell_type": "markdown",
   "id": "mental-gateway",
   "metadata": {},
   "source": [
    "# Naive Bayes"
   ]
  },
  {
   "cell_type": "code",
   "execution_count": 19,
   "id": "velvet-quarterly",
   "metadata": {},
   "outputs": [
    {
     "data": {
      "text/plain": [
       "0.75"
      ]
     },
     "execution_count": 19,
     "metadata": {},
     "output_type": "execute_result"
    }
   ],
   "source": [
    "((20/60)*(3/20))/(4/60)"
   ]
  },
  {
   "cell_type": "code",
   "execution_count": 31,
   "id": "israeli-adelaide",
   "metadata": {},
   "outputs": [],
   "source": [
    "# Separamos el dataset para entrenar y testear y evitar el overfiting\n",
    "\n",
    "from sklearn.model_selection import train_test_split\n",
    "\n",
    "x_train, x_test, y_train, y_test = train_test_split(x, y, test_size=0.2)"
   ]
  },
  {
   "cell_type": "code",
   "execution_count": 32,
   "id": "middle-island",
   "metadata": {},
   "outputs": [
    {
     "data": {
      "text/plain": [
       "MultinomialNB()"
      ]
     },
     "execution_count": 32,
     "metadata": {},
     "output_type": "execute_result"
    }
   ],
   "source": [
    "# Entrenamos el modelo Naive Bayes\n",
    "\n",
    "from sklearn.naive_bayes import MultinomialNB\n",
    "\n",
    "clf = MultinomialNB()\n",
    "clf.fit(x_train, y_train)"
   ]
  },
  {
   "cell_type": "markdown",
   "id": "ecological-bruce",
   "metadata": {},
   "source": [
    "# Validación del Modelo"
   ]
  },
  {
   "cell_type": "code",
   "execution_count": 29,
   "id": "educated-rates",
   "metadata": {},
   "outputs": [],
   "source": [
    "from sklearn.metrics import classification_report, confusion_matrix"
   ]
  },
  {
   "cell_type": "code",
   "execution_count": 23,
   "id": "nearby-dylan",
   "metadata": {},
   "outputs": [
    {
     "data": {
      "text/plain": [
       "array([1, 1, 1, ..., 1, 1, 1])"
      ]
     },
     "execution_count": 23,
     "metadata": {},
     "output_type": "execute_result"
    }
   ],
   "source": [
    "y_pred_train = clf.predict(x_train)\n",
    "y_pred_train"
   ]
  },
  {
   "cell_type": "code",
   "execution_count": 24,
   "id": "occupational-veteran",
   "metadata": {},
   "outputs": [
    {
     "data": {
      "text/plain": [
       "<AxesSubplot:>"
      ]
     },
     "execution_count": 24,
     "metadata": {},
     "output_type": "execute_result"
    },
    {
     "data": {
      "image/png": "[encoded data removed]",
      "text/plain": [
       "<Figure size 432x288 with 2 Axes>"
      ]
     },
     "metadata": {
      "needs_background": "light"
     },
     "output_type": "display_data"
    }
   ],
   "source": [
    "# En esta primera matriz de confusión vemos que mi modelo se ha equivocado en clasificar 78 y 3 comentarios.\n",
    "# 3 valoraciones negativas las ha marcado como positivas y 78 como positivas las ha marcado como negativas\n",
    "\n",
    "sns.heatmap(confusion_matrix(y_train, y_pred_train), annot=True)"
   ]
  },
  {
   "cell_type": "code",
   "execution_count": 28,
   "id": "macro-retrieval",
   "metadata": {},
   "outputs": [
    {
     "ename": "NameError",
     "evalue": "name 'MultinomialNB' is not defined",
     "output_type": "error",
     "traceback": [
      "\u001b[0;31m---------------------------------------------------------------------------\u001b[0m",
      "\u001b[0;31mNameError\u001b[0m                                 Traceback (most recent call last)",
      "\u001b[0;32m<ipython-input-28-4179ebfef888>\u001b[0m in \u001b[0;36m<module>\u001b[0;34m\u001b[0m\n\u001b[1;32m      1\u001b[0m \u001b[0;31m# Ahora voy a entrenar el modelo y comparar con mi y_test para evitar overfiting\u001b[0m\u001b[0;34m\u001b[0m\u001b[0;34m\u001b[0m\u001b[0;34m\u001b[0m\u001b[0m\n\u001b[1;32m      2\u001b[0m \u001b[0;34m\u001b[0m\u001b[0m\n\u001b[0;32m----> 3\u001b[0;31m \u001b[0mclf\u001b[0m \u001b[0;34m=\u001b[0m \u001b[0mMultinomialNB\u001b[0m\u001b[0;34m(\u001b[0m\u001b[0;34m)\u001b[0m\u001b[0;34m\u001b[0m\u001b[0;34m\u001b[0m\u001b[0m\n\u001b[0m\u001b[1;32m      4\u001b[0m \u001b[0mclf\u001b[0m\u001b[0;34m.\u001b[0m\u001b[0mfit\u001b[0m\u001b[0;34m(\u001b[0m\u001b[0mx_train\u001b[0m\u001b[0;34m,\u001b[0m \u001b[0my_train\u001b[0m\u001b[0;34m)\u001b[0m\u001b[0;34m\u001b[0m\u001b[0;34m\u001b[0m\u001b[0m\n",
      "\u001b[0;31mNameError\u001b[0m: name 'MultinomialNB' is not defined"
     ]
    }
   ],
   "source": [
    "# Ahora voy a entrenar el modelo y comparar con mi y_test para evitar overfiting\n",
    "\n",
    "clf = MultinomialNB()\n",
    "clf.fit(x_train, y_train)"
   ]
  },
  {
   "cell_type": "code",
   "execution_count": 26,
   "id": "advised-barbados",
   "metadata": {},
   "outputs": [
    {
     "data": {
      "text/plain": [
       "<AxesSubplot:>"
      ]
     },
     "execution_count": 26,
     "metadata": {},
     "output_type": "execute_result"
    },
    {
     "data": {
      "image/png": "[encoded data removed]",
      "text/plain": [
       "<Figure size 432x288 with 2 Axes>"
      ]
     },
     "metadata": {
      "needs_background": "light"
     },
     "output_type": "display_data"
    }
   ],
   "source": [
    "y_pred = clf.predict(x_test)\n",
    "\n",
    "# Matriz de confusión\n",
    "\n",
    "sns.heatmap(confusion_matrix(y_test, y_pred), annot = True)"
   ]
  },
  {
   "cell_type": "code",
   "execution_count": 27,
   "id": "ambient-writer",
   "metadata": {},
   "outputs": [
    {
     "name": "stdout",
     "output_type": "stream",
     "text": [
      "              precision    recall  f1-score   support\n",
      "\n",
      "           0       0.62      0.44      0.51        48\n",
      "           1       0.95      0.98      0.97       582\n",
      "\n",
      "    accuracy                           0.94       630\n",
      "   macro avg       0.79      0.71      0.74       630\n",
      "weighted avg       0.93      0.94      0.93       630\n",
      "\n"
     ]
    },
    {
     "data": {
      "text/plain": [
       "'Con este cuadro vemos uno de los problemas del data set y por qué falla tanto cuando intenta clasificar los\\ncomentarios negativos. El problema es el desbalanceo de clases. Esto hace que el método de Naibe Bayes obtenga\\nuna mayor probabilidad a priori de pertenecer al grupo de los comentarios positivos que de los negativos. Recordemos\\nque la fórmula para este algoritmo, incluye la probabilidad a priori para obtener la a posteriori.\\nAntes de hacer balanceo de clases, vamos a probar con una regresión logística, a ver que obtenemos, y, finalmente,\\nharemos balanceo de clases y volveremos a intentar el Naive Bayes.'"
      ]
     },
     "execution_count": 27,
     "metadata": {},
     "output_type": "execute_result"
    }
   ],
   "source": [
    "print(classification_report(y_test, y_pred))\n",
    "\n",
    "'''Con este cuadro vemos uno de los problemas del data set y por qué falla tanto cuando intenta clasificar los\n",
    "comentarios negativos. El problema es el desbalanceo de clases. Esto hace que el método de Naibe Bayes obtenga\n",
    "una mayor probabilidad a priori de pertenecer al grupo de los comentarios positivos que de los negativos. Recordemos\n",
    "que la fórmula para este algoritmo, incluye la probabilidad a priori para obtener la a posteriori.\n",
    "Antes de hacer balanceo de clases, vamos a probar con una regresión logística, a ver que obtenemos, y, finalmente,\n",
    "haremos balanceo de clases y volveremos a intentar el Naive Bayes.'''"
   ]
  },
  {
   "cell_type": "markdown",
   "id": "tracked-decrease",
   "metadata": {},
   "source": [
    "# Regresión logística"
   ]
  },
  {
   "cell_type": "code",
   "execution_count": 40,
   "id": "everyday-poster",
   "metadata": {},
   "outputs": [],
   "source": [
    "from sklearn.linear_model import LogisticRegression"
   ]
  },
  {
   "cell_type": "code",
   "execution_count": 30,
   "id": "industrial-graphics",
   "metadata": {},
   "outputs": [],
   "source": [
    "clf = LogisticRegression()\n",
    "clf.fit(x_train, y_train)\n",
    "y_pred = clf.predict(x_test)"
   ]
  },
  {
   "cell_type": "code",
   "execution_count": 33,
   "id": "enormous-deviation",
   "metadata": {},
   "outputs": [
    {
     "name": "stdout",
     "output_type": "stream",
     "text": [
      "              precision    recall  f1-score   support\n",
      "\n",
      "           0       0.79      0.31      0.45        48\n",
      "           1       0.95      0.99      0.97       582\n",
      "\n",
      "    accuracy                           0.94       630\n",
      "   macro avg       0.87      0.65      0.71       630\n",
      "weighted avg       0.93      0.94      0.93       630\n",
      "\n"
     ]
    },
    {
     "data": {
      "image/png": "[encoded data removed]",
      "text/plain": [
       "<Figure size 432x288 with 2 Axes>"
      ]
     },
     "metadata": {
      "needs_background": "light"
     },
     "output_type": "display_data"
    }
   ],
   "source": [
    "sns.heatmap(confusion_matrix(y_test, y_pred), annot = True)\n",
    "print(classification_report(y_test, y_pred))"
   ]
  },
  {
   "cell_type": "code",
   "execution_count": 35,
   "id": "palestinian-parallel",
   "metadata": {},
   "outputs": [
    {
     "data": {
      "text/plain": [
       "<sklearn.metrics._plot.roc_curve.RocCurveDisplay at 0x7f9b30e94d00>"
      ]
     },
     "execution_count": 35,
     "metadata": {},
     "output_type": "execute_result"
    },
    {
     "data": {
      "image/png": "[encoded data removed]",
      "text/plain": [
       "<Figure size 432x288 with 1 Axes>"
      ]
     },
     "metadata": {
      "needs_background": "light"
     },
     "output_type": "display_data"
    }
   ],
   "source": [
    "from sklearn.metrics import accuracy_score, plot_roc_curve\n",
    "\n",
    "plot_roc_curve(clf, x_test, y_test)"
   ]
  },
  {
   "cell_type": "markdown",
   "id": "liberal-amount",
   "metadata": {},
   "source": [
    "# Balanceo de clases"
   ]
  },
  {
   "cell_type": "code",
   "execution_count": 18,
   "id": "fabulous-appointment",
   "metadata": {},
   "outputs": [],
   "source": [
    "from imblearn.over_sampling import SMOTE"
   ]
  },
  {
   "cell_type": "code",
   "execution_count": 19,
   "id": "operating-offset",
   "metadata": {},
   "outputs": [],
   "source": [
    "over = SMOTE(sampling_strategy=0.8) #Queremos un 80% del tamaño de la clase mayoritaria en la minoritaria\n",
    "x_bal, y_bal = over.fit_resample(x,y)"
   ]
  },
  {
   "cell_type": "code",
   "execution_count": 34,
   "id": "welsh-revolution",
   "metadata": {},
   "outputs": [],
   "source": [
    "x_bal_train, x_bal_test, y_bal_train, y_bal_test = train_test_split(x_bal, y_bal, test_size=0.3)"
   ]
  },
  {
   "cell_type": "code",
   "execution_count": 33,
   "id": "disabled-bolivia",
   "metadata": {},
   "outputs": [
    {
     "name": "stdout",
     "output_type": "stream",
     "text": [
      "datos balanceados = Counter({1: 2893, 0: 2314})\n",
      "datos desbalanceados = Counter({1: 2318, 0: 202})\n"
     ]
    }
   ],
   "source": [
    "# Aquí vemos que las clases ya están algo más balanceadas\n",
    "\n",
    "from collections import Counter\n",
    "print('datos balanceados =',Counter(y_bal))\n",
    "print('datos desbalanceados =',Counter(y_train))"
   ]
  },
  {
   "cell_type": "markdown",
   "id": "bigger-namibia",
   "metadata": {},
   "source": [
    "# Naive Bayes balanceado"
   ]
  },
  {
   "cell_type": "code",
   "execution_count": 35,
   "id": "impressive-person",
   "metadata": {},
   "outputs": [
    {
     "data": {
      "text/plain": [
       "MultinomialNB()"
      ]
     },
     "execution_count": 35,
     "metadata": {},
     "output_type": "execute_result"
    }
   ],
   "source": [
    "# Repetimos el algoritmo de Naive Bayes\n",
    "\n",
    "clf = MultinomialNB()\n",
    "clf.fit(x_bal_train, y_bal_train)"
   ]
  },
  {
   "cell_type": "code",
   "execution_count": 37,
   "id": "interstate-rating",
   "metadata": {},
   "outputs": [
    {
     "data": {
      "text/plain": [
       "<AxesSubplot:>"
      ]
     },
     "execution_count": 37,
     "metadata": {},
     "output_type": "execute_result"
    },
    {
     "data": {
      "image/png": "[encoded data removed]",
      "text/plain": [
       "<Figure size 432x288 with 2 Axes>"
      ]
     },
     "metadata": {
      "needs_background": "light"
     },
     "output_type": "display_data"
    }
   ],
   "source": [
    "y_pred_bal = clf.predict(x_bal_test)\n",
    "\n",
    "sns.heatmap(confusion_matrix(y_bal_test, y_pred_bal), annot=True)"
   ]
  },
  {
   "cell_type": "code",
   "execution_count": 38,
   "id": "average-supervisor",
   "metadata": {},
   "outputs": [
    {
     "name": "stdout",
     "output_type": "stream",
     "text": [
      "              precision    recall  f1-score   support\n",
      "\n",
      "           0       0.88      0.50      0.64       698\n",
      "           1       0.70      0.95      0.81       865\n",
      "\n",
      "    accuracy                           0.75      1563\n",
      "   macro avg       0.79      0.72      0.72      1563\n",
      "weighted avg       0.78      0.75      0.73      1563\n",
      "\n"
     ]
    }
   ],
   "source": [
    "'''Vemos que, aunque en la matriz de confusión falle la mitad lo mismo que acierta al clasifica comentarios\n",
    "negativos, este empieza a ser un mejor modelo. En este caso habría que ir ajustano los parámetros del algoritmo\n",
    "y el preprocesamiento para ir consiguiendo mejores validaciones. Sin embargo, vemos como el classification_report\n",
    "indica mejoras en muchos de los indicadores, como el recall en de los comentarios negaticos o el f1-score.'''\n",
    "\n",
    "print(classification_report(y_bal_test, y_pred_bal))"
   ]
  },
  {
   "cell_type": "markdown",
   "id": "republican-short",
   "metadata": {},
   "source": [
    "# Regresión logística balanceada"
   ]
  },
  {
   "cell_type": "code",
   "execution_count": 41,
   "id": "tropical-liabilities",
   "metadata": {},
   "outputs": [],
   "source": [
    "clf = LogisticRegression()\n",
    "clf.fit(x_bal_train, y_bal_train)\n",
    "y_pred = clf.predict(x_bal_test)"
   ]
  },
  {
   "cell_type": "code",
   "execution_count": 42,
   "id": "nasty-medicare",
   "metadata": {},
   "outputs": [
    {
     "name": "stdout",
     "output_type": "stream",
     "text": [
      "              precision    recall  f1-score   support\n",
      "\n",
      "           0       0.90      0.96      0.93       698\n",
      "           1       0.97      0.91      0.94       865\n",
      "\n",
      "    accuracy                           0.94      1563\n",
      "   macro avg       0.93      0.94      0.94      1563\n",
      "weighted avg       0.94      0.94      0.94      1563\n",
      "\n"
     ]
    },
    {
     "data": {
      "image/png": "[encoded data removed]",
      "text/plain": [
       "<Figure size 432x288 with 2 Axes>"
      ]
     },
     "metadata": {
      "needs_background": "light"
     },
     "output_type": "display_data"
    }
   ],
   "source": [
    "'''Aquí vemos un mejor modelo con diferencia. Vemos que todos los indicadores están por encima del 0.9, algo \n",
    "muy positivo ya que indican que tanto al clasificar los comentarios positivos y los negativos aciertan bastante\n",
    "y fallan poco. En concreto, con los datos de test, vemos que fallan 25 comentarios negativos y acierta 672 y al\n",
    "clasificar los positivos falla en 76 comentarios pero acierta en clasificar 792. Esto, aunque para este problema\n",
    "puede ser aceptable, se puede mejorar mucho más. La menra de mejorarlo sería aplicando distintos métodos de \n",
    "validación, probando más modelos y con la ayuda de un gridsearch de python, que nos permite probar modelos ajustando\n",
    "los parámetros, algo muy útil ya que, en este ejercicio, se han dejado los parámetros que tiene el algoritmo por\n",
    "defecto.\n",
    "Esa produndidad de análisis lo haré más adelante y lo iré subiendo a este repositorio.'''\n",
    "\n",
    "sns.heatmap(confusion_matrix(y_bal_test, y_pred), annot = True)\n",
    "print(classification_report(y_bal_test, y_pred))"
   ]
  },
  {
   "cell_type": "code",
   "execution_count": null,
   "id": "danish-crack",
   "metadata": {},
   "outputs": [],
   "source": []
  }
 ],
 "metadata": {
  "kernelspec": {
   "display_name": "neolandenv",
   "language": "python",
   "name": "neolandenv"
  },
  "language_info": {
   "codemirror_mode": {
    "name": "ipython",
    "version": 3
   },
   "file_extension": ".py",
   "mimetype": "text/x-python",
   "name": "python",
   "nbconvert_exporter": "python",
   "pygments_lexer": "ipython3",
   "version": "3.9.3"
  }
 },
 "nbformat": 4,
 "nbformat_minor": 5
}
